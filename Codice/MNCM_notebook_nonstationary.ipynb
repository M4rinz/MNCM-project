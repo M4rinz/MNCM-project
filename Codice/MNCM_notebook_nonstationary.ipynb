{
 "cells": [
  {
   "cell_type": "markdown",
   "metadata": {},
   "source": [
    "# Consinstently estimating Markov Chains with Noisy Aggregated Data\n",
    "\n",
    "## Notebook con esperimenti numerici per il seminario di fine corso di Metodi Numerici per le Catene di Markov (versione non stazionaria)"
   ]
  },
  {
   "cell_type": "code",
   "execution_count": 5,
   "metadata": {},
   "outputs": [
    {
     "name": "stdout",
     "output_type": "stream",
     "text": [
      "The autoreload extension is already loaded. To reload it, use:\n",
      "  %reload_ext autoreload\n"
     ]
    }
   ],
   "source": [
    "# to avoid the pain of restarting the kernel each time\n",
    "%load_ext autoreload\n",
    "%autoreload 2"
   ]
  },
  {
   "cell_type": "code",
   "execution_count": 6,
   "metadata": {},
   "outputs": [],
   "source": [
    "# Import some basic stuff\n",
    "import numpy as np\n",
    "import matplotlib.pyplot as plt\n",
    "from utilities import P_mom_nonstationary, add_noise, generate_random_P"
   ]
  },
  {
   "cell_type": "code",
   "execution_count": 7,
   "metadata": {},
   "outputs": [],
   "source": [
    "# Number of repeated observations\n",
    "K = 30\n",
    "# Population size\n",
    "N = 100\n",
    "# Number of states\n",
    "S = 20\n",
    "# Number of timesteps\n",
    "T = 2000"
   ]
  },
  {
   "cell_type": "markdown",
   "metadata": {},
   "source": [
    "### Generate the data"
   ]
  },
  {
   "cell_type": "code",
   "execution_count": 8,
   "metadata": {},
   "outputs": [],
   "source": [
    "# True transition matrix\n",
    "P = generate_random_P(S)\n",
    "\n",
    "# Initial distribution\n",
    "pi_0 = np.random.rand(S)\n",
    "pi_0 = pi_0/pi_0.sum()"
   ]
  },
  {
   "cell_type": "markdown",
   "metadata": {},
   "source": [
    "The function `create_observations` generates $K$ independent observations for each of the $T$ timesteps of the aggregate process.\n",
    "\n",
    "In the non stationary case, this is done by generating $n_0\\sim\\mathrm{Multinomial}(N,\\pi_0)$ at $t=0$. Then $n_t\\sim\\mathrm{Multinomial}(N,\\mu_t)$ when $t>0$, where $\\mu_t=\\pi_0^TP^t$."
   ]
  },
  {
   "cell_type": "code",
   "execution_count": 21,
   "metadata": {},
   "outputs": [],
   "source": [
    "from utilities import create_observations\n",
    "\n",
    "n_t_vector, y_t_vector, A = create_observations(T,K,N,\n",
    "                                                pi_0,\n",
    "                                                stationary=False,\n",
    "                                                P=P,\n",
    "                                                noise_type='binomial',\n",
    "                                                alpha=0.2)\n",
    "\n",
    "#print(f'n_t_vector.shape = {n_t_vector.shape}, (T, K, S) = ({T}, {K}, {S})')"
   ]
  },
  {
   "cell_type": "markdown",
   "metadata": {},
   "source": [
    "**OSS**: `n_t_vector` and `y_t_vector` are `np.ndarray`s of shape $T\\times K\\times S$. \n",
    "\n",
    "They can be thought as lists of length $T$ in which the item at position $t\\in\\{0,\\dots,T-1\\}$ is a $K\\times S$ `np.ndarray` that contains the $K$ observations for timestep $t+1$ "
   ]
  },
  {
   "cell_type": "markdown",
   "metadata": {},
   "source": [
    "### Estimators of $P$"
   ]
  },
  {
   "cell_type": "code",
   "execution_count": 24,
   "metadata": {},
   "outputs": [],
   "source": [
    "# Let's fix a value of t, as an example\n",
    "t = 1000\n",
    "P_mom_t = P_mom_nonstationary(y_t_array = y_t_vector[t-1],\n",
    "                              y_tp1_array = y_t_vector[t], \n",
    "                              A_t = np.eye(S), \n",
    "                              A_tp1 = np.eye(S),\n",
    "                              N = N)\n",
    "#print(\"The rows of P_mom_t sum to 1.\" if all(P_mom_t.sum(axis=1) == np.ones(S)) else \"The rows of P_mom_t do not sum to 1.\")"
   ]
  },
  {
   "cell_type": "code",
   "execution_count": 27,
   "metadata": {},
   "outputs": [
    {
     "data": {
      "text/plain": [
       "0.00854914702747366"
      ]
     },
     "execution_count": 27,
     "metadata": {},
     "output_type": "execute_result"
    }
   ],
   "source": [
    "np.linalg.norm(P_mom_t-P,'fro')/(S**2)"
   ]
  },
  {
   "cell_type": "code",
   "execution_count": null,
   "metadata": {},
   "outputs": [],
   "source": []
  }
 ],
 "metadata": {
  "kernelspec": {
   "display_name": "HLT-env",
   "language": "python",
   "name": "python3"
  },
  "language_info": {
   "codemirror_mode": {
    "name": "ipython",
    "version": 3
   },
   "file_extension": ".py",
   "mimetype": "text/x-python",
   "name": "python",
   "nbconvert_exporter": "python",
   "pygments_lexer": "ipython3",
   "version": "3.12.2"
  }
 },
 "nbformat": 4,
 "nbformat_minor": 2
}
