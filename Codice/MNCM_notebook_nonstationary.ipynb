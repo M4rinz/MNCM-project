{
 "cells": [
  {
   "cell_type": "markdown",
   "metadata": {},
   "source": [
    "# Consinstently estimating Markov Chains with Noisy Aggregated Data\n",
    "\n",
    "## Notebook con esperimenti numerici per il seminario di fine corso di Metodi Numerici per le Catene di Markov (versione non stazionaria)"
   ]
  },
  {
   "cell_type": "code",
   "execution_count": 2,
   "metadata": {},
   "outputs": [],
   "source": [
    "# Import some basic stuff\n",
    "import numpy as np\n",
    "import matplotlib.pyplot as plt\n",
    "from utilities import P_mom_nonstationary, add_noise, generate_random_P"
   ]
  },
  {
   "cell_type": "code",
   "execution_count": 3,
   "metadata": {},
   "outputs": [],
   "source": [
    "# Number of repeated observations\n",
    "K = 30\n",
    "# Population size\n",
    "N = 100\n",
    "# Number of states\n",
    "S = 20\n",
    "# Number of timesteps\n",
    "T = 2000"
   ]
  },
  {
   "cell_type": "markdown",
   "metadata": {},
   "source": [
    "### Generate the data"
   ]
  },
  {
   "cell_type": "code",
   "execution_count": 4,
   "metadata": {},
   "outputs": [],
   "source": [
    "# True transition matrix\n",
    "P = generate_random_P(S)\n",
    "\n",
    "# Initial distribution\n",
    "pi_0 = np.random.rand(S)\n",
    "pi_0 = pi_0/pi_0.sum()"
   ]
  },
  {
   "cell_type": "markdown",
   "metadata": {},
   "source": [
    "Let's generate the observed data. We immediately generate the $K$ observations.\n",
    "\n",
    "This is done by generating $n_0\\sim\\mathrm{Multinomial}(N,\\pi_0)$ at $t=0$. Then $n_t\\sim\\mathrm{Multinomial}(N,\\mu_t)$ when $t>0$, where $\\mu_t=\\pi_0^TP^t$."
   ]
  },
  {
   "cell_type": "code",
   "execution_count": 5,
   "metadata": {},
   "outputs": [],
   "source": [
    "mu_t = pi_0.T\n",
    "n_t_vector = []\n",
    "y_t_vector = []\n",
    "for t in range(T):\n",
    "    # create K observations of the observed data (multinomial draw)\n",
    "    n_t = np.random.multinomial(n=N, pvals=mu_t, size=K)\n",
    "    # create noisy observations\n",
    "    y_t, _ = add_noise(n_t)\n",
    "    # append the observations\n",
    "    n_t_vector.append(n_t)\n",
    "    y_t_vector.append(y_t)\n",
    "    # update the distribution of x_t for the next iteration\n",
    "    mu_t = np.dot(mu_t,P)"
   ]
  },
  {
   "cell_type": "markdown",
   "metadata": {},
   "source": [
    "**OSS**: `n_t_vector` and `y_t_vector` are lists of length $T$, the item in the list in position $t\\in\\{0,\\dots,T-1\\}$ is a $K\\times S$ `np.ndarray` that contains the $K$ observations for timestep $t+1$ "
   ]
  },
  {
   "cell_type": "code",
   "execution_count": 7,
   "metadata": {},
   "outputs": [
    {
     "data": {
      "text/plain": [
       "(numpy.ndarray, (30, 20))"
      ]
     },
     "execution_count": 7,
     "metadata": {},
     "output_type": "execute_result"
    }
   ],
   "source": [
    "type(y_t_vector[0]), y_t_vector[0].shape"
   ]
  },
  {
   "cell_type": "markdown",
   "metadata": {},
   "source": [
    "### Estimators of $P$"
   ]
  },
  {
   "cell_type": "code",
   "execution_count": 6,
   "metadata": {},
   "outputs": [
    {
     "name": "stdout",
     "output_type": "stream",
     "text": [
      "All sanity checks passed successfully.\n"
     ]
    }
   ],
   "source": [
    "# Let's fix a value of t, as an example\n",
    "t = 1000\n",
    "P_mom_t = P_mom_nonstationary(y_t_array = y_t_vector[t-1],\n",
    "                              y_tp1_array = y_t_vector[t], \n",
    "                              A_t = np.eye(S), \n",
    "                              A_tp1 = np.eye(S),\n",
    "                              N = N)\n",
    "#print(\"The rows of P_mom_t sum to 1.\" if all(P_mom_t.sum(axis=1) == np.ones(S)) else \"The rows of P_mom_t do not sum to 1.\")"
   ]
  },
  {
   "cell_type": "code",
   "execution_count": 9,
   "metadata": {},
   "outputs": [
    {
     "data": {
      "text/plain": [
       "3.3102760572268592"
      ]
     },
     "execution_count": 9,
     "metadata": {},
     "output_type": "execute_result"
    }
   ],
   "source": [
    "np.linalg.norm(P_mom_t-P)"
   ]
  },
  {
   "cell_type": "code",
   "execution_count": null,
   "metadata": {},
   "outputs": [],
   "source": []
  }
 ],
 "metadata": {
  "kernelspec": {
   "display_name": "HLT-env",
   "language": "python",
   "name": "python3"
  },
  "language_info": {
   "codemirror_mode": {
    "name": "ipython",
    "version": 3
   },
   "file_extension": ".py",
   "mimetype": "text/x-python",
   "name": "python",
   "nbconvert_exporter": "python",
   "pygments_lexer": "ipython3",
   "version": "3.12.2"
  }
 },
 "nbformat": 4,
 "nbformat_minor": 2
}
