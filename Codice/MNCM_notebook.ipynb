{
 "cells": [
  {
   "cell_type": "markdown",
   "metadata": {},
   "source": [
    "# Consinstently estimating Markov Chains with Noisy Aggregated Data\n",
    "\n",
    "## Notebook con esperimenti numerici per il seminario di fine corso di Metodi Numerici per le Catene di Markov"
   ]
  },
  {
   "cell_type": "code",
   "execution_count": 1,
   "metadata": {},
   "outputs": [],
   "source": [
    "# Import some basic stuff\n",
    "import numpy as np\n",
    "import matplotlib.pyplot as plt\n",
    "from utilities import P_mom_nonstationary, add_noise"
   ]
  },
  {
   "cell_type": "code",
   "execution_count": 2,
   "metadata": {},
   "outputs": [],
   "source": [
    "# Number of repeated observations\n",
    "K = 30\n",
    "# Population size\n",
    "N = 100\n",
    "# Number of states\n",
    "S = 20\n",
    "# Number of timesteps\n",
    "T = 2000"
   ]
  },
  {
   "cell_type": "markdown",
   "metadata": {},
   "source": [
    "#### Scrappy trials:"
   ]
  },
  {
   "cell_type": "code",
   "execution_count": 14,
   "metadata": {},
   "outputs": [
    {
     "data": {
      "text/plain": [
       "array([[ 9.,  6.,  5.,  3.,  0.,  7.,  5.,  2.,  8.,  8.,  8.,  1.,  5.,\n",
       "         0.,  6.,  7.,  2.,  7.,  3.,  8.],\n",
       "       [ 2.,  0.,  4.,  2.,  6., 10.,  0.,  0.,  4.,  0., 10.,  9.,  5.,\n",
       "         2.,  5.,  8.,  8., 12.,  3., 10.],\n",
       "       [ 3.,  2.,  7.,  5.,  5.,  9.,  1.,  2.,  5.,  5.,  8.,  8.,  6.,\n",
       "         0.,  9.,  4.,  5.,  0.,  6., 10.]])"
      ]
     },
     "execution_count": 14,
     "metadata": {},
     "output_type": "execute_result"
    }
   ],
   "source": [
    "y_t_array = generate_random_y_t_array(K=K, N=N, S=S)\n",
    "y_t_array"
   ]
  },
  {
   "cell_type": "code",
   "execution_count": null,
   "metadata": {},
   "outputs": [],
   "source": [
    "P_true = np.random.rand(S,S)\n",
    "for i in range(S):\n",
    "    P_true[i,:] = P_true[i,:]/P_true[i,:].sum()"
   ]
  },
  {
   "cell_type": "markdown",
   "metadata": {},
   "source": [
    "#### Less scrappy trials:"
   ]
  },
  {
   "cell_type": "markdown",
   "metadata": {},
   "source": [
    "Let's generate the data"
   ]
  },
  {
   "cell_type": "code",
   "execution_count": 3,
   "metadata": {},
   "outputs": [],
   "source": [
    "# True transition matrix\n",
    "P = np.random.rand(S,S)\n",
    "for i in range(S):\n",
    "    P[i,:] = P[i,:]/P[i,:].sum()\n",
    "\n",
    "# Initial distribution\n",
    "pi_0 = np.random.rand(S)\n",
    "pi_0 = pi_0/pi_0.sum()"
   ]
  },
  {
   "cell_type": "markdown",
   "metadata": {},
   "source": [
    "Let's generate the observed data. We immediately generate the $K$ observations"
   ]
  },
  {
   "cell_type": "code",
   "execution_count": 14,
   "metadata": {},
   "outputs": [],
   "source": [
    "mu_t = pi_0.T\n",
    "n_t_vector = []\n",
    "y_t_vector = []\n",
    "for t in range(T):\n",
    "    # create distribution of x_t\n",
    "    mu_t = np.dot(mu_t,P)\n",
    "    # create K observations of the observed data (multinomial draw)\n",
    "    n_t = np.random.multinomial(n=N,pvals=mu_t, size=K)\n",
    "    # create noisy observations\n",
    "    y_t, _ = add_noise(n_t)\n",
    "    # append the observations\n",
    "    n_t_vector.append(n_t)\n",
    "    y_t_vector.append(y_t)"
   ]
  },
  {
   "cell_type": "markdown",
   "metadata": {},
   "source": [
    "**OSS**: `n_t_vector` and `y_t_vector` are lists of length $T$, the item in the list in position $t\\in\\{0,\\dots,T-1\\}$ is a $K\\times S$ `np.ndarray` that contains the $K$ observations for timestep $t+1$ "
   ]
  },
  {
   "cell_type": "code",
   "execution_count": 19,
   "metadata": {},
   "outputs": [],
   "source": [
    "# Let's fix a value of t, as an example\n",
    "t = 1000\n",
    "P_mom_t = P_mom_nonstationary(y_t_array = y_t_vector[t-1],\n",
    "                              y_tp1_array = y_t_vector[t], \n",
    "                              A_t = np.eye(S), \n",
    "                              A_tp1 = np.eye(S),\n",
    "                              N = N)"
   ]
  },
  {
   "cell_type": "code",
   "execution_count": 20,
   "metadata": {},
   "outputs": [
    {
     "data": {
      "text/plain": [
       "array([1., 1., 1., 1., 1., 1., 1., 1., 1., 1., 1., 1., 1., 1., 1., 1., 1.,\n",
       "       1., 1., 1.])"
      ]
     },
     "execution_count": 20,
     "metadata": {},
     "output_type": "execute_result"
    }
   ],
   "source": [
    "P_mom_t.sum(axis=1)\n"
   ]
  },
  {
   "cell_type": "code",
   "execution_count": 21,
   "metadata": {},
   "outputs": [
    {
     "data": {
      "text/plain": [
       "3.862222814883906"
      ]
     },
     "execution_count": 21,
     "metadata": {},
     "output_type": "execute_result"
    }
   ],
   "source": [
    "np.linalg.norm(P_mom_t-P)"
   ]
  },
  {
   "cell_type": "code",
   "execution_count": null,
   "metadata": {},
   "outputs": [],
   "source": []
  }
 ],
 "metadata": {
  "kernelspec": {
   "display_name": "HLT-env",
   "language": "python",
   "name": "python3"
  },
  "language_info": {
   "codemirror_mode": {
    "name": "ipython",
    "version": 3
   },
   "file_extension": ".py",
   "mimetype": "text/x-python",
   "name": "python",
   "nbconvert_exporter": "python",
   "pygments_lexer": "ipython3",
   "version": "3.12.2"
  }
 },
 "nbformat": 4,
 "nbformat_minor": 2
}
